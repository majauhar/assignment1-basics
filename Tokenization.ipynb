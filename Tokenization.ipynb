{
 "cells": [
  {
   "cell_type": "code",
   "execution_count": 1,
   "id": "1cde6947",
   "metadata": {},
   "outputs": [
    {
     "data": {
      "text/plain": [
       "'\\x00'"
      ]
     },
     "execution_count": 1,
     "metadata": {},
     "output_type": "execute_result"
    }
   ],
   "source": [
    "chr(0)"
   ]
  },
  {
   "cell_type": "code",
   "execution_count": 2,
   "id": "f6abe183",
   "metadata": {},
   "outputs": [
    {
     "name": "stdout",
     "output_type": "stream",
     "text": [
      "\u0000\n"
     ]
    }
   ],
   "source": [
    "print(chr(0))"
   ]
  },
  {
   "cell_type": "code",
   "execution_count": 4,
   "id": "78dd4489",
   "metadata": {},
   "outputs": [
    {
     "name": "stdout",
     "output_type": "stream",
     "text": [
      "this is a text\u0000involving something.\n"
     ]
    }
   ],
   "source": [
    "print(\"this is a text\" + chr(0) + \"involving something.\")"
   ]
  },
  {
   "cell_type": "code",
   "execution_count": 1,
   "id": "e9375644-b427-4d65-a639-bb3bca158f7b",
   "metadata": {},
   "outputs": [],
   "source": [
    "def get_stats(ids):\n",
    "    counts = {}\n",
    "    for pair in zip(ids, ids[1:]):\n",
    "        counts[pair] = counts.get(pair, 0) + 1\n",
    "    return counts"
   ]
  },
  {
   "cell_type": "code",
   "execution_count": 2,
   "id": "93f01b89-7abc-4714-a64c-9be8d3c42e2d",
   "metadata": {},
   "outputs": [],
   "source": [
    "test_str = \"😄 The very name strikes fear and awe into the hearts of programmers worldwide. We all know we ought to “support Unicode” in our software (whatever that means—like using wchar_t for all the strings, right?). But Unicode can be abstruse, and diving into the thousand-page Unicode Standard plus its dozens of supplementary annexes, reports, and notes can be more than a little intimidating. I don’t blame programmers for still finding the whole thing mysterious, even 30 years after Unicode’s inception.\"\n",
    "tokens = list(test_str.encode('utf-8'))"
   ]
  },
  {
   "cell_type": "code",
   "execution_count": 5,
   "id": "c6edee3d-b4f9-4355-a9ef-8eaa656e9dd9",
   "metadata": {},
   "outputs": [
    {
     "data": {
      "text/plain": [
       "500"
      ]
     },
     "execution_count": 5,
     "metadata": {},
     "output_type": "execute_result"
    }
   ],
   "source": [
    "len(test_str)"
   ]
  },
  {
   "cell_type": "code",
   "execution_count": 7,
   "id": "069a517b-d474-4f4d-8c37-c097fd2e5efa",
   "metadata": {},
   "outputs": [
    {
     "name": "stdout",
     "output_type": "stream",
     "text": [
      "(101, 32)\n"
     ]
    }
   ],
   "source": [
    "stats = get_stats(tokens)\n",
    "top_pair = max(stats, key=stats.get)\n",
    "print(top_pair)"
   ]
  },
  {
   "cell_type": "code",
   "execution_count": 8,
   "id": "46250f52-c75a-48f4-bc7a-5c53e75bce12",
   "metadata": {},
   "outputs": [],
   "source": [
    "def merge(tokens, pair, idx):\n",
    "    updated_token_list = []\n",
    "    i = 0\n",
    "    while i < len(tokens) - 1:\n",
    "        if tokens[i] == pair[0] and tokens[i+1] == pair[1]:\n",
    "            updated_token_list.append(idx)\n",
    "            i += 2\n",
    "        else:\n",
    "            updated_token_list.append(tokens[i])\n",
    "            i += 1\n",
    "    return updated_token_list"
   ]
  },
  {
   "cell_type": "code",
   "execution_count": 9,
   "id": "284206d2-2e1b-48ca-b691-61e9acc26bc3",
   "metadata": {},
   "outputs": [
    {
     "name": "stdout",
     "output_type": "stream",
     "text": [
      "[5, 6, 99, 9]\n"
     ]
    }
   ],
   "source": [
    "print(merge([5, 6, 6, 7, 9, 1], (6, 7), 99))"
   ]
  },
  {
   "cell_type": "code",
   "execution_count": 10,
   "id": "96b11d05-d400-4020-ba8c-76a35dc4c9f9",
   "metadata": {},
   "outputs": [],
   "source": [
    "import regex as re\n",
    "gpt2pat = re.compile(r\"\"\"'s|'t|'re|'ve|'m|'ll|'d| ?\\p{L}+| ?\\p{N}+| ?[^\\s\\p{L}\\p{N}]+|\\s+(?!\\S)|\\s+\"\"\")"
   ]
  },
  {
   "cell_type": "code",
   "execution_count": 11,
   "id": "9198aa46-efe6-4d80-aa31-3a61f0b0d03c",
   "metadata": {},
   "outputs": [],
   "source": [
    "pre_tokens = re.findall(gpt2pat, test_str)"
   ]
  },
  {
   "cell_type": "code",
   "execution_count": 15,
   "id": "6242aca6-be6d-4324-aa80-2cc550e24caf",
   "metadata": {},
   "outputs": [
    {
     "name": "stdout",
     "output_type": "stream",
     "text": [
      "(' into', ' the') 2\n"
     ]
    }
   ],
   "source": [
    "stats = get_stats(pre_tokens)\n",
    "print(max(stats, key=stats.get), stats.get(max(stats, key=stats.get)))"
   ]
  },
  {
   "cell_type": "code",
   "execution_count": 16,
   "id": "8c52574c-cf22-4565-a565-0be23c374985",
   "metadata": {},
   "outputs": [],
   "source": [
    "text = \"low low low low low lower lower widest widest widest newest newest newest newest newest newest\""
   ]
  },
  {
   "cell_type": "code",
   "execution_count": 67,
   "id": "40987f60-d506-4aac-b825-ce26bf6a6415",
   "metadata": {},
   "outputs": [],
   "source": [
    "vocabulary = [] # id: token\n",
    "for i in range(256):\n",
    "    vocabulary.append(chr(i))"
   ]
  },
  {
   "cell_type": "code",
   "execution_count": 69,
   "id": "80dd6038-7641-4b4c-ab34-68fc9ecbec3a",
   "metadata": {},
   "outputs": [],
   "source": [
    "vocabulary.append(\"<|endoftext|>\")"
   ]
  },
  {
   "cell_type": "code",
   "execution_count": 23,
   "id": "2516f9be-c1cf-461b-813f-7485237703ca",
   "metadata": {},
   "outputs": [],
   "source": [
    "pre_tokens = text.split(' ')\n",
    "frequency = {}\n",
    "for token in pre_tokens:\n",
    "    frequency[token] = frequency.get(token, 0) + 1"
   ]
  },
  {
   "cell_type": "code",
   "execution_count": 24,
   "id": "5f175249-ec81-449a-ab5f-35100534bc08",
   "metadata": {},
   "outputs": [
    {
     "data": {
      "text/plain": [
       "{'low': 5, 'lower': 2, 'widest': 3, 'newest': 6}"
      ]
     },
     "execution_count": 24,
     "metadata": {},
     "output_type": "execute_result"
    }
   ],
   "source": [
    "frequency"
   ]
  },
  {
   "cell_type": "code",
   "execution_count": 35,
   "id": "6be8487d-0522-4c70-a9f7-da7dc8b3aaf2",
   "metadata": {},
   "outputs": [
    {
     "data": {
      "text/plain": [
       "(b'a', b'b', b'c')"
      ]
     },
     "execution_count": 35,
     "metadata": {},
     "output_type": "execute_result"
    }
   ],
   "source": [
    "tuple([b.encode('utf-8') for b in 'abc'])"
   ]
  },
  {
   "cell_type": "code",
   "execution_count": 64,
   "id": "0582b386-6a0f-48c9-a157-00426aae15ad",
   "metadata": {},
   "outputs": [],
   "source": [
    "frequency_bytes = {}\n",
    "for key, value in frequency.items():\n",
    "    key = tuple(b for b in key)\n",
    "    frequency_bytes[key] = value"
   ]
  },
  {
   "cell_type": "code",
   "execution_count": 65,
   "id": "46c1ad38-a525-43a9-872a-881c735e6e26",
   "metadata": {},
   "outputs": [
    {
     "data": {
      "text/plain": [
       "{('l', 'o', 'w'): 5,\n",
       " ('l', 'o', 'w', 'e', 'r'): 2,\n",
       " ('w', 'i', 'd', 'e', 's', 't'): 3,\n",
       " ('n', 'e', 'w', 'e', 's', 't'): 6}"
      ]
     },
     "execution_count": 65,
     "metadata": {},
     "output_type": "execute_result"
    }
   ],
   "source": [
    "frequency_bytes"
   ]
  },
  {
   "cell_type": "code",
   "execution_count": 53,
   "id": "6c5eedce-ef9d-4576-8797-e3f055638712",
   "metadata": {},
   "outputs": [],
   "source": [
    "def get_stats(frequency_bytes):\n",
    "    stats = {}\n",
    "    \n",
    "    for key, value in frequency_bytes.items():\n",
    "        key = list(key)\n",
    "        for pair in zip(key, key[1:]):\n",
    "            pair = ''.join(pair)\n",
    "            stats[pair] = stats.get(pair, 0) + value\n",
    "    return stats"
   ]
  },
  {
   "cell_type": "code",
   "execution_count": 55,
   "id": "82db29b4-442a-4853-bcbb-d6cedf435704",
   "metadata": {},
   "outputs": [
    {
     "data": {
      "text/plain": [
       "{'lo': 7,\n",
       " 'ow': 7,\n",
       " 'we': 8,\n",
       " 'er': 2,\n",
       " 'wi': 3,\n",
       " 'id': 3,\n",
       " 'de': 3,\n",
       " 'es': 9,\n",
       " 'st': 9,\n",
       " 'ne': 6,\n",
       " 'ew': 6}"
      ]
     },
     "execution_count": 55,
     "metadata": {},
     "output_type": "execute_result"
    }
   ],
   "source": [
    "stats = get_stats(frequency_bytes)\n",
    "stats"
   ]
  },
  {
   "cell_type": "code",
   "execution_count": 57,
   "id": "99c2d2b1-b4a1-48f0-a388-f27de575f38d",
   "metadata": {},
   "outputs": [],
   "source": [
    "def get_top_pair(stats):\n",
    "    top_value = max(stats.values())\n",
    "    max_keys = [k for k,v in stats.items() if v == top_value]\n",
    "    # picking the lexicographically greater pair\n",
    "    top_pair = max(max_keys)\n",
    "    return top_pair"
   ]
  },
  {
   "cell_type": "code",
   "execution_count": 58,
   "id": "f4141331-e6b9-47fe-86c9-86f61f1ccb47",
   "metadata": {},
   "outputs": [
    {
     "data": {
      "text/plain": [
       "'st'"
      ]
     },
     "execution_count": 58,
     "metadata": {},
     "output_type": "execute_result"
    }
   ],
   "source": [
    "top_pair = get_top_pair(stats)\n",
    "top_pair"
   ]
  },
  {
   "cell_type": "code",
   "execution_count": 79,
   "id": "971ed6dc-ddfc-43f7-8920-2cbb1db31cd8",
   "metadata": {},
   "outputs": [],
   "source": [
    "# merge\n",
    "def merge(top_pair, frequency_bytes):\n",
    "    updated_freq = {}\n",
    "    for key, value in frequency_bytes.items():\n",
    "        updated_keys = []\n",
    "        key = list(key)\n",
    "        i = 0\n",
    "        while i < len(key):\n",
    "            merged_str = ''.join(key[i:i+2])\n",
    "            if i < len(key) - 1 and merged_str == top_pair:\n",
    "                updated_keys.append(top_pair)\n",
    "                i += 2\n",
    "            else:\n",
    "                updated_keys.append(key[i])\n",
    "                i += 1\n",
    "        updated_freq[tuple(updated_keys)] = value\n",
    "    return updated_freq"
   ]
  },
  {
   "cell_type": "code",
   "execution_count": null,
   "id": "79a52e1e-db42-4177-81ec-b124b7c5d6d4",
   "metadata": {},
   "outputs": [],
   "source": []
  },
  {
   "cell_type": "code",
   "execution_count": 80,
   "id": "b531ddf6-a86a-4cd9-91da-b9a33e22360d",
   "metadata": {},
   "outputs": [
    {
     "data": {
      "text/plain": [
       "{('l', 'o', 'w'): 5,\n",
       " ('l', 'o', 'w', 'e', 'r'): 2,\n",
       " ('w', 'i', 'd', 'est'): 3,\n",
       " ('n', 'e', 'w', 'est'): 6}"
      ]
     },
     "execution_count": 80,
     "metadata": {},
     "output_type": "execute_result"
    }
   ],
   "source": [
    "frequency_bytes = merge(top_pair, frequency_bytes)\n",
    "frequency_bytes"
   ]
  },
  {
   "cell_type": "code",
   "execution_count": 83,
   "id": "613ac225-4d2f-40bd-bfe0-d3513f0241c7",
   "metadata": {},
   "outputs": [],
   "source": [
    "for i in range(1):\n",
    "    stats = get_stats(frequency_bytes)\n",
    "    top_pair = get_top_pair(stats)\n",
    "    vocabulary.append(top_pair)\n",
    "    frequency_bytes = merge(top_pair, frequency_bytes)"
   ]
  },
  {
   "cell_type": "code",
   "execution_count": 84,
   "id": "05c54be6-00d9-4863-8e70-9ba288b3827a",
   "metadata": {},
   "outputs": [
    {
     "data": {
      "text/plain": [
       "{('low',): 5,\n",
       " ('low', 'e', 'r'): 2,\n",
       " ('w', 'i', 'd', 'est'): 3,\n",
       " ('ne', 'west'): 6}"
      ]
     },
     "execution_count": 84,
     "metadata": {},
     "output_type": "execute_result"
    }
   ],
   "source": [
    "frequency_bytes"
   ]
  },
  {
   "cell_type": "code",
   "execution_count": 75,
   "id": "d17cc53f-f57a-4114-a23f-9db4b9447e98",
   "metadata": {},
   "outputs": [
    {
     "data": {
      "text/plain": [
       "{'lo': 7,\n",
       " 'ow': 7,\n",
       " 'we': 8,\n",
       " 'er': 2,\n",
       " 'wi': 3,\n",
       " 'id': 3,\n",
       " 'de': 3,\n",
       " 'est': 9,\n",
       " 'ne': 6,\n",
       " 'ew': 6}"
      ]
     },
     "execution_count": 75,
     "metadata": {},
     "output_type": "execute_result"
    }
   ],
   "source": [
    "stats = get_stats(frequency_bytes)\n",
    "stats"
   ]
  },
  {
   "cell_type": "code",
   "execution_count": 76,
   "id": "f9971949-1b85-4437-aedc-ac4bccad0a45",
   "metadata": {},
   "outputs": [
    {
     "data": {
      "text/plain": [
       "'est'"
      ]
     },
     "execution_count": 76,
     "metadata": {},
     "output_type": "execute_result"
    }
   ],
   "source": [
    "top_pair = get_top_pair(stats)\n",
    "top_pair"
   ]
  },
  {
   "cell_type": "code",
   "execution_count": 78,
   "id": "60ebd01a-8818-4a85-b538-3bc9dfc13cd9",
   "metadata": {},
   "outputs": [
    {
     "data": {
      "text/plain": [
       "{('l', 'o', 'w'): 5,\n",
       " ('l', 'o', 'w', 'e', 'r'): 2,\n",
       " ('w', 'i', 'd', 'e', 'st'): 3,\n",
       " ('n', 'e', 'w', 'e', 'st'): 6}"
      ]
     },
     "execution_count": 78,
     "metadata": {},
     "output_type": "execute_result"
    }
   ],
   "source": [
    "frequency_bytes = merge(top_pair, frequency_bytes)\n",
    "frequency_bytes"
   ]
  }
 ],
 "metadata": {
  "kernelspec": {
   "display_name": "cs336-basics",
   "language": "python",
   "name": "python3"
  },
  "language_info": {
   "codemirror_mode": {
    "name": "ipython",
    "version": 3
   },
   "file_extension": ".py",
   "mimetype": "text/x-python",
   "name": "python",
   "nbconvert_exporter": "python",
   "pygments_lexer": "ipython3",
   "version": "3.13.3"
  }
 },
 "nbformat": 4,
 "nbformat_minor": 5
}
